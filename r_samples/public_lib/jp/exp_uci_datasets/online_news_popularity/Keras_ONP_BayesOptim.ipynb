{
 "cells": [
  {
   "cell_type": "code",
   "execution_count": 1,
   "metadata": {},
   "outputs": [
    {
     "name": "stderr",
     "output_type": "stream",
     "text": [
      "Using TensorFlow backend.\n"
     ]
    }
   ],
   "source": [
    "import keras\n",
    "from keras.layers.core import Activation\n",
    "from keras.layers.core import Dense\n",
    "from keras.layers.core import Dropout\n",
    "from keras.models import Sequential\n",
    "from keras.optimizers import SGD\n",
    "from keras.utils import np_utils\n",
    "from bayes_opt import BayesianOptimization\n",
    "\n",
    "import numpy as np\n",
    "import pandas as pd\n",
    "from sklearn.utils import shuffle\n",
    "from sklearn.preprocessing import StandardScaler\n",
    "from sklearn.metrics import mean_squared_error"
   ]
  },
  {
   "cell_type": "code",
   "execution_count": 2,
   "metadata": {},
   "outputs": [],
   "source": [
    "df_train = pd.read_csv('https://github.com/ozt-ca/tjo.hatenablog.samples/raw/master/r_samples/public_lib/jp/exp_uci_datasets/online_news_popularity/ONP_train.csv')\n",
    "df_test = pd.read_csv('https://github.com/ozt-ca/tjo.hatenablog.samples/raw/master/r_samples/public_lib/jp/exp_uci_datasets/online_news_popularity/ONP_test.csv')\n",
    "\n",
    "x_train = df_train.iloc[:, :58]\n",
    "y_train = df_train[\"shares\"]\n",
    "x_test = df_test.iloc[:, :58]\n",
    "y_test = df_test[\"shares\"]\n",
    "\n",
    "merged_train = pd.concat([x_train, x_test])\n",
    "\n",
    "scaler = StandardScaler()\n",
    "merged_train.iloc[:, 0:10] = scaler.fit_transform(merged_train.iloc[:, 0:10])\n",
    "merged_train.iloc[:, 17:28] = scaler.fit_transform(merged_train.iloc[:, 17:28])\n",
    "merged_train.iloc[:, 37:] = scaler.fit_transform(merged_train.iloc[:, 37:])\n",
    "\n",
    "x_train = merged_train.iloc[:len(df_train), :]\n",
    "x_test = merged_train.iloc[len(df_train):, :]"
   ]
  },
  {
   "cell_type": "code",
   "execution_count": 3,
   "metadata": {},
   "outputs": [],
   "source": [
    "df_train = shuffle(df_train)\n",
    "idx = int(np.round(len(df_train) * 0.9, 0))\n",
    "x_ptrain = df_train.iloc[:idx, :58]\n",
    "y_ptrain = df_train.iloc[:idx, 58]\n",
    "x_ptest = df_train.iloc[idx:, :58]\n",
    "y_ptest = df_train.iloc[idx:, 58]"
   ]
  },
  {
   "cell_type": "code",
   "execution_count": 4,
   "metadata": {
    "scrolled": true
   },
   "outputs": [
    {
     "name": "stdout",
     "output_type": "stream",
     "text": [
      "\u001b[31mInitialization\u001b[0m\n",
      "\u001b[94m-------------------------------------------------------------------------------------------\u001b[0m\n",
      " Step |   Time |      Value |        lr |   num_epoch |     unit1 |     unit2 |     unit3 | \n",
      "WARNING:tensorflow:From /usr/local/lib/python2.7/site-packages/tensorflow/python/framework/op_def_library.py:263: colocate_with (from tensorflow.python.framework.ops) is deprecated and will be removed in a future version.\n",
      "Instructions for updating:\n",
      "Colocations handled automatically by placer.\n",
      "WARNING:tensorflow:From /usr/local/lib/python2.7/site-packages/keras/backend/tensorflow_backend.py:3445: calling dropout (from tensorflow.python.ops.nn_ops) with keep_prob is deprecated and will be removed in a future version.\n",
      "Instructions for updating:\n",
      "Please use `rate` instead of `keep_prob`. Rate should be set to `rate = 1 - keep_prob`.\n",
      "WARNING:tensorflow:From /usr/local/lib/python2.7/site-packages/tensorflow/python/ops/math_ops.py:3066: to_int32 (from tensorflow.python.ops.math_ops) is deprecated and will be removed in a future version.\n",
      "Instructions for updating:\n",
      "Use tf.cast instead.\n",
      "    1 | 00m31s | \u001b[35m  -0.90885\u001b[0m | \u001b[32m   0.0023\u001b[0m | \u001b[32m    65.1166\u001b[0m | \u001b[32m 200.0114\u001b[0m | \u001b[32m 148.8130\u001b[0m | \u001b[32m  68.3404\u001b[0m | \n",
      "\u001b[31mBayesian Optimization\u001b[0m\n",
      "\u001b[94m-------------------------------------------------------------------------------------------\u001b[0m\n",
      " Step |   Time |      Value |        lr |   num_epoch |     unit1 |     unit2 |     unit3 | \n",
      "    2 | 00m40s |   -0.91143 |    0.0049 |     75.2108 |  282.8395 |  142.3345 |   63.7524 | \n",
      "Iteration 0: \n",
      "\tmax\n",
      "Iteration 1: \n",
      "\tall\n",
      "{'unit3': 68.34044009405147, 'unit2': 148.81297973768633, 'unit1': 200.01143748173448, 'num_epoch': 65.116628631592, 'lr': 0.0023208030173540173}\n"
     ]
    }
   ],
   "source": [
    "def get_model(unit1, unit2, unit3):\n",
    "    model = Sequential()\n",
    "    model.add(Dense(int(unit1), input_dim = 58))\n",
    "    model.add(Activation('tanh'))\n",
    "    model.add(Dropout(0.5))\n",
    "    model.add(Dense(int(unit2)))\n",
    "    model.add(Activation('tanh'))\n",
    "    model.add(Dropout(0.5))\n",
    "    model.add(Dense(int(unit3)))\n",
    "    model.add(Activation('tanh'))\n",
    "    model.add(Dense(1))\n",
    "    model.add(Activation('linear'))\n",
    "    return model\n",
    "\n",
    "def fit_with(unit1, unit2, unit3, lr, num_epoch):\n",
    "    model = get_model(unit1, unit2, unit3)\n",
    "    sgd = SGD(lr=lr, decay=1e-6, momentum=0.9, nesterov=True)\n",
    "    model.compile(loss = 'mean_squared_error', optimizer = sgd)\n",
    "    model.fit(x_ptrain, y_ptrain, epochs = int(num_epoch), batch_size = 200, verbose = 0)\n",
    "    pred = model.predict(x_ptest)\n",
    "    rmse = np.sqrt(mean_squared_error(pred, y_ptest))\n",
    "    return -rmse\n",
    "\n",
    "pbounds = {'unit1': (200, 300), 'unit2': (120, 160), 'unit3': (60, 80),\n",
    "           'lr': (1e-3, 1e-2), 'num_epoch': (50, 100)}\n",
    "\n",
    "optimizer = BayesianOptimization(\n",
    "    f = fit_with,\n",
    "    pbounds = pbounds,\n",
    "    verbose=2,  # verbose = 1 prints only when a maximum is observed, verbose = 0 is silent\n",
    "    random_state=1,\n",
    ")\n",
    "\n",
    "optimizer.maximize(init_points=1, n_iter=1,)\n",
    "\n",
    "\n",
    "for i, res in enumerate(optimizer.res):\n",
    "    print(\"Iteration {}: \\n\\t{}\".format(i, res))\n",
    "\n",
    "print(optimizer.res['max']['max_params'])\n"
   ]
  },
  {
   "cell_type": "code",
   "execution_count": 10,
   "metadata": {},
   "outputs": [
    {
     "name": "stderr",
     "output_type": "stream",
     "text": [
      "/usr/local/lib/python2.7/site-packages/ipykernel_launcher.py:16: UserWarning: The `nb_epoch` argument in `fit` has been renamed `epochs`.\n",
      "  app.launch_new_instance()\n"
     ]
    },
    {
     "name": "stdout",
     "output_type": "stream",
     "text": [
      "Epoch 1/100\n",
      "34644/34644 [==============================] - 1s 28us/step - loss: 1.6151\n",
      "Epoch 2/100\n",
      "34644/34644 [==============================] - 1s 15us/step - loss: 0.8712\n",
      "Epoch 3/100\n",
      "34644/34644 [==============================] - 1s 15us/step - loss: 0.8669\n",
      "Epoch 4/100\n",
      "34644/34644 [==============================] - 1s 16us/step - loss: 0.8696\n",
      "Epoch 5/100\n",
      "34644/34644 [==============================] - 1s 16us/step - loss: 0.8649\n",
      "Epoch 6/100\n",
      "34644/34644 [==============================] - 1s 16us/step - loss: 0.8656\n",
      "Epoch 7/100\n",
      "34644/34644 [==============================] - 1s 17us/step - loss: 0.8640\n",
      "Epoch 8/100\n",
      "34644/34644 [==============================] - 1s 15us/step - loss: 0.8652\n",
      "Epoch 9/100\n",
      "34644/34644 [==============================] - 1s 16us/step - loss: 0.8631\n",
      "Epoch 10/100\n",
      "34644/34644 [==============================] - 1s 16us/step - loss: 0.8641\n",
      "Epoch 11/100\n",
      "34644/34644 [==============================] - 1s 16us/step - loss: 0.8639\n",
      "Epoch 12/100\n",
      "34644/34644 [==============================] - 1s 16us/step - loss: 0.8628\n",
      "Epoch 13/100\n",
      "34644/34644 [==============================] - 1s 17us/step - loss: 0.8646\n",
      "Epoch 14/100\n",
      "34644/34644 [==============================] - 1s 16us/step - loss: 0.8633\n",
      "Epoch 15/100\n",
      "34644/34644 [==============================] - 1s 16us/step - loss: 0.8630\n",
      "Epoch 16/100\n",
      "34644/34644 [==============================] - 1s 16us/step - loss: 0.8622\n",
      "Epoch 17/100\n",
      "34644/34644 [==============================] - 1s 17us/step - loss: 0.8623\n",
      "Epoch 18/100\n",
      "34644/34644 [==============================] - 1s 16us/step - loss: 0.8640\n",
      "Epoch 19/100\n",
      "34644/34644 [==============================] - 1s 16us/step - loss: 0.8634\n",
      "Epoch 20/100\n",
      "34644/34644 [==============================] - 1s 16us/step - loss: 0.8629\n",
      "Epoch 21/100\n",
      "34644/34644 [==============================] - 1s 17us/step - loss: 0.8629\n",
      "RMSE: 0.9490629261808484\n"
     ]
    }
   ],
   "source": [
    "model = Sequential()\n",
    "model.add(Dense(int(optimizer.res['max']['max_params']['unit1']), input_dim = 58))\n",
    "model.add(Activation('tanh'))\n",
    "model.add(Dropout(0.5))\n",
    "model.add(Dense(int(optimizer.res['max']['max_params']['unit2'])))\n",
    "model.add(Activation('tanh'))\n",
    "model.add(Dropout(0.5))\n",
    "model.add(Dense(int(optimizer.res['max']['max_params']['unit3'])))\n",
    "model.add(Activation('tanh'))\n",
    "model.add(Dense(1))\n",
    "model.add(Activation('linear'))\n",
    "\n",
    "sgd = SGD(lr=optimizer.res['max']['max_params']['lr'], decay=1e-6, momentum=0.9, nesterov=True)\n",
    "model.compile(loss = 'mean_squared_error', optimizer = sgd)\n",
    "cb = keras.callbacks.EarlyStopping(monitor='loss', patience=10, mode='min')\n",
    "model.fit(x_train, y_train, nb_epoch = 100, batch_size = 200, verbose = 1, callbacks = [cb])\n",
    "pred = model.predict(x_test)\n",
    "rmse = np.sqrt(mean_squared_error(pred, y_test))\n",
    "print \"RMSE:\", rmse"
   ]
  },
  {
   "cell_type": "code",
   "execution_count": null,
   "metadata": {},
   "outputs": [],
   "source": []
  }
 ],
 "metadata": {
  "kernelspec": {
   "display_name": "Python 2",
   "language": "python",
   "name": "python2"
  },
  "language_info": {
   "codemirror_mode": {
    "name": "ipython",
    "version": 2
   },
   "file_extension": ".py",
   "mimetype": "text/x-python",
   "name": "python",
   "nbconvert_exporter": "python",
   "pygments_lexer": "ipython2",
   "version": "2.7.15"
  }
 },
 "nbformat": 4,
 "nbformat_minor": 2
}
