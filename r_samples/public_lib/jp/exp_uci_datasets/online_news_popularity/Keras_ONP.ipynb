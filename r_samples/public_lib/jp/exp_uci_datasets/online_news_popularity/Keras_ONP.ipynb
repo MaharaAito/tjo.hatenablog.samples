{
 "cells": [
  {
   "cell_type": "code",
   "execution_count": 1,
   "metadata": {},
   "outputs": [
    {
     "name": "stderr",
     "output_type": "stream",
     "text": [
      "Using TensorFlow backend.\n"
     ]
    }
   ],
   "source": [
    "import keras\n",
    "from keras.layers.core import Activation\n",
    "from keras.layers.core import Dense\n",
    "from keras.layers.core import Dropout\n",
    "from keras.models import Sequential\n",
    "from keras.optimizers import SGD\n",
    "from keras.utils import np_utils\n",
    "\n",
    "import numpy as np\n",
    "import pandas as pd\n",
    "from sklearn.preprocessing import StandardScaler\n",
    "from sklearn.metrics import mean_squared_error"
   ]
  },
  {
   "cell_type": "code",
   "execution_count": 3,
   "metadata": {},
   "outputs": [],
   "source": [
    "df_train = pd.read_csv('https://github.com/ozt-ca/tjo.hatenablog.samples/raw/master/r_samples/public_lib/jp/exp_uci_datasets/online_news_popularity/ONP_train.csv')\n",
    "df_test = pd.read_csv('https://github.com/ozt-ca/tjo.hatenablog.samples/raw/master/r_samples/public_lib/jp/exp_uci_datasets/online_news_popularity/ONP_test.csv')\n",
    "\n",
    "x_train = df_train.iloc[:, :58]\n",
    "y_train = df_train[\"shares\"]\n",
    "x_test = df_test.iloc[:, :58]\n",
    "y_test = df_test[\"shares\"]\n",
    "\n",
    "scaler = StandardScaler()\n",
    "x_train.iloc[:, 0:10] = scaler.fit_transform(x_train.iloc[:, 0:10])\n",
    "x_train.iloc[:, 17:28] = scaler.fit_transform(x_train.iloc[:, 17:28])\n",
    "x_train.iloc[:, 37:] = scaler.fit_transform(x_train.iloc[:, 37:])\n",
    "x_test.iloc[:, 0:10] = scaler.fit_transform(x_test.iloc[:, 0:10])\n",
    "x_test.iloc[:, 17:28] = scaler.fit_transform(x_test.iloc[:, 17:28])\n",
    "x_test.iloc[:, 37:] = scaler.fit_transform(x_test.iloc[:, 37:])"
   ]
  },
  {
   "cell_type": "code",
   "execution_count": 5,
   "metadata": {},
   "outputs": [
    {
     "name": "stdout",
     "output_type": "stream",
     "text": [
      "Epoch 1/30\n",
      "34644/34644 [==============================] - 1s 32us/step - loss: 1.4912\n",
      "Epoch 2/30\n",
      "34644/34644 [==============================] - 1s 25us/step - loss: 0.8791\n",
      "Epoch 3/30\n",
      "34644/34644 [==============================] - 1s 24us/step - loss: 0.8771\n",
      "Epoch 4/30\n",
      "34644/34644 [==============================] - 1s 25us/step - loss: 0.8718\n",
      "Epoch 5/30\n",
      "34644/34644 [==============================] - 1s 25us/step - loss: 0.8814\n",
      "Epoch 6/30\n",
      "34644/34644 [==============================] - 1s 26us/step - loss: 0.8758\n",
      "Epoch 7/30\n",
      "34644/34644 [==============================] - 1s 26us/step - loss: 0.8680\n",
      "Epoch 8/30\n",
      "34644/34644 [==============================] - 1s 25us/step - loss: 0.8704\n",
      "Epoch 9/30\n",
      "34644/34644 [==============================] - 1s 26us/step - loss: 0.8759\n",
      "Epoch 10/30\n",
      "34644/34644 [==============================] - 1s 25us/step - loss: 0.8619\n",
      "Epoch 11/30\n",
      "34644/34644 [==============================] - 1s 25us/step - loss: 0.8719\n",
      "Epoch 12/30\n",
      "34644/34644 [==============================] - 1s 27us/step - loss: 0.8548\n",
      "Epoch 13/30\n",
      "34644/34644 [==============================] - 1s 26us/step - loss: 0.8575\n",
      "Epoch 14/30\n",
      "34644/34644 [==============================] - 1s 25us/step - loss: 0.8707\n",
      "Epoch 15/30\n",
      "34644/34644 [==============================] - 1s 25us/step - loss: 0.8724\n",
      "Epoch 16/30\n",
      "34644/34644 [==============================] - 1s 27us/step - loss: 0.8658\n",
      "Epoch 17/30\n",
      "34644/34644 [==============================] - 1s 27us/step - loss: 0.8632\n",
      "Epoch 18/30\n",
      "34644/34644 [==============================] - 1s 26us/step - loss: 0.8757\n",
      "Epoch 19/30\n",
      "34644/34644 [==============================] - 1s 25us/step - loss: 0.8598\n",
      "Epoch 20/30\n",
      "34644/34644 [==============================] - 1s 25us/step - loss: 0.8596\n",
      "Epoch 21/30\n",
      "34644/34644 [==============================] - 1s 27us/step - loss: 0.8599\n",
      "Epoch 22/30\n",
      "34644/34644 [==============================] - 1s 26us/step - loss: 0.8751\n",
      "Epoch 23/30\n",
      "34644/34644 [==============================] - 1s 27us/step - loss: 0.8619\n",
      "Epoch 24/30\n",
      "34644/34644 [==============================] - 1s 27us/step - loss: 0.8521\n",
      "Epoch 25/30\n",
      "34644/34644 [==============================] - 1s 28us/step - loss: 0.8641\n",
      "Epoch 26/30\n",
      "34644/34644 [==============================] - 1s 26us/step - loss: 0.8540\n",
      "Epoch 27/30\n",
      "34644/34644 [==============================] - 1s 26us/step - loss: 0.8569\n",
      "Epoch 28/30\n",
      "34644/34644 [==============================] - 1s 26us/step - loss: 0.8718\n",
      "Epoch 29/30\n",
      "34644/34644 [==============================] - 1s 27us/step - loss: 0.8608\n",
      "Epoch 30/30\n",
      "34644/34644 [==============================] - 1s 26us/step - loss: 0.8522\n",
      "RMSE: 0.9467329948535449\n"
     ]
    }
   ],
   "source": [
    "batch_size = 200\n",
    "nb_epoch = 30\n",
    "\n",
    "model = Sequential()\n",
    "model.add(Dense(720, input_dim = 58))\n",
    "model.add(Activation('tanh'))\n",
    "model.add(Dense(240))\n",
    "model.add(Activation('tanh'))\n",
    "model.add(Dense(60))\n",
    "model.add(Activation('tanh'))\n",
    "model.add(Dense(1))\n",
    "model.add(Activation('linear'))\n",
    "\n",
    "sgd = SGD(lr=0.01, decay=1e-6, momentum=0.9, nesterov=True)\n",
    "model.compile(loss = 'mean_squared_error', optimizer = sgd)\n",
    "model.fit(x_train, y_train, epochs = nb_epoch, batch_size = batch_size)\n",
    "\n",
    "y_predict = model.predict(x_test)\n",
    "rmse = np.sqrt(mean_squared_error(y_predict, y_test))\n",
    "\n",
    "print \"RMSE:\", rmse"
   ]
  },
  {
   "cell_type": "code",
   "execution_count": null,
   "metadata": {},
   "outputs": [],
   "source": []
  }
 ],
 "metadata": {
  "kernelspec": {
   "display_name": "Python 2",
   "language": "python",
   "name": "python2"
  },
  "language_info": {
   "codemirror_mode": {
    "name": "ipython",
    "version": 2
   },
   "file_extension": ".py",
   "mimetype": "text/x-python",
   "name": "python",
   "nbconvert_exporter": "python",
   "pygments_lexer": "ipython2",
   "version": "2.7.15"
  }
 },
 "nbformat": 4,
 "nbformat_minor": 2
}
